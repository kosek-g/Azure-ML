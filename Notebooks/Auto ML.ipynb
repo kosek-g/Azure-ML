{
 "cells": [
  {
   "cell_type": "markdown",
   "id": "34af31e7",
   "metadata": {},
   "source": [
    "# <center>Automated Machine Learning </center>"
   ]
  },
  {
   "cell_type": "markdown",
   "id": "686e5a67",
   "metadata": {},
   "source": [
    " "
   ]
  },
  {
   "cell_type": "markdown",
   "id": "c2ff9d8f",
   "metadata": {},
   "source": [
    "### Check if required package is installed."
   ]
  },
  {
   "cell_type": "code",
   "execution_count": 10,
   "id": "8fe945c4",
   "metadata": {},
   "outputs": [
    {
     "name": "stdout",
     "output_type": "stream",
     "text": [
      "Name: azureml-train-automl\n",
      "Version: 1.44.0\n",
      "Summary: Used for automatically finding the best machine learning model and its parameters.\n",
      "Home-page: https://docs.microsoft.com/python/api/overview/azure/ml/?view=azure-ml-py\n",
      "Author: Microsoft Corp\n",
      "Author-email: None\n",
      "License: https://aka.ms/azureml-sdk-license\n",
      "Location: /anaconda/envs/azureml_py38/lib/python3.8/site-packages\n",
      "Requires: azureml-automl-runtime, azureml-train-automl-runtime, azureml-dataset-runtime, azureml-train-automl-client, azureml-automl-core\n",
      "Required-by: azureml-automl-dnn-nlp\n",
      "Note: you may need to restart the kernel to use updated packages.\n"
     ]
    }
   ],
   "source": [
    "pip show azureml-train-automl"
   ]
  },
  {
   "cell_type": "markdown",
   "id": "c5096af7",
   "metadata": {},
   "source": [
    "### Connect to the Workspace"
   ]
  },
  {
   "cell_type": "code",
   "execution_count": 11,
   "id": "e7b30137",
   "metadata": {},
   "outputs": [
    {
     "name": "stdout",
     "output_type": "stream",
     "text": [
      "Ready to use Azure ML 1.44.0 to work with avanade-airline-delays\n"
     ]
    }
   ],
   "source": [
    "import azureml.core\n",
    "from azureml.core import Workspace\n",
    "\n",
    "# Load the workspace from the saved config file\n",
    "ws = Workspace.from_config()\n",
    "print('Ready to use Azure ML {} to work with {}'.format(azureml.core.VERSION, ws.name))"
   ]
  },
  {
   "cell_type": "markdown",
   "id": "e00eff2e",
   "metadata": {},
   "source": [
    "### Get data"
   ]
  },
  {
   "cell_type": "code",
   "execution_count": 12,
   "id": "3ca94497",
   "metadata": {},
   "outputs": [
    {
     "name": "stdout",
     "output_type": "stream",
     "text": [
      "Dataset is ready\n"
     ]
    }
   ],
   "source": [
    "from azureml.core import Dataset\n",
    "\n",
    "#dataset is already registered in ML Workspace\n",
    "df_airlines = ws.datasets.get('airlines_processed_df_final_2')\n",
    "\n",
    "#train/test split\n",
    "df_train, df_test = df_airlines.random_split(percentage = 0.7, seed = 42)\n",
    "\n",
    "print('Dataset is ready')"
   ]
  },
  {
   "cell_type": "markdown",
   "id": "62a29f03",
   "metadata": {},
   "source": [
    "### Prepare compute"
   ]
  },
  {
   "cell_type": "code",
   "execution_count": 13,
   "id": "d0bfe49d",
   "metadata": {
    "scrolled": true
   },
   "outputs": [
    {
     "name": "stdout",
     "output_type": "stream",
     "text": [
      "Cluster already exists\n"
     ]
    }
   ],
   "source": [
    "from azureml.core.compute import ComputeTarget, AmlCompute\n",
    "from azureml.core.compute_target import ComputeTargetException\n",
    "\n",
    "cluster_name = 'avanade-compute-cluster'\n",
    "\n",
    "try:\n",
    "    # Check for existing compute target\n",
    "    training_cluster = ComputeTarget(workspace=ws, name=cluster_name)\n",
    "    print('Cluster already exists')\n",
    "except ComputeTargetException:\n",
    "    # If it doesn't already exist, create it\n",
    "    try:\n",
    "        compute_config = AmlCompute.provisioning_configuration(vm_size='STANDARD_DS11_V2', max_nodes=2)\n",
    "        training_cluster = ComputeTarget.create(ws, cluster_name, compute_config)\n",
    "        training_cluster.wait_for_completion(show_output=True)\n",
    "    except Exception as ex:\n",
    "        print(ex)"
   ]
  },
  {
   "cell_type": "markdown",
   "id": "4cb57430",
   "metadata": {},
   "source": [
    " "
   ]
  },
  {
   "cell_type": "markdown",
   "id": "aa1c3a59",
   "metadata": {},
   "source": [
    "### Configure automated machine learning"
   ]
  },
  {
   "cell_type": "markdown",
   "id": "f86fbbef",
   "metadata": {},
   "source": [
    "Now, let's configure automated ML experiment. Metric for model performance should be picked as one of the first thing. This is the list of possible choices when it comes to classification task."
   ]
  },
  {
   "cell_type": "code",
   "execution_count": 14,
   "id": "00362c0d",
   "metadata": {},
   "outputs": [
    {
     "name": "stdout",
     "output_type": "stream",
     "text": [
      "norm_macro_recall\n",
      "accuracy\n",
      "AUC_weighted\n",
      "precision_score_weighted\n",
      "average_precision_score_weighted\n"
     ]
    }
   ],
   "source": [
    "import azureml.train.automl.utilities as automl_utils\n",
    "\n",
    "for metric in automl_utils.get_primary_metrics('classification'):\n",
    "    print(metric)"
   ]
  },
  {
   "cell_type": "markdown",
   "id": "55d346f0",
   "metadata": {},
   "source": [
    "In that scenario, I will chose <b>AUC_weighted</b> for the performance metric. Let's prepare AutoMLConfig class now."
   ]
  },
  {
   "cell_type": "code",
   "execution_count": 15,
   "id": "b0eddfed",
   "metadata": {},
   "outputs": [],
   "source": [
    "from azureml.train.automl import AutoMLConfig\n",
    "\n",
    "automl_config = AutoMLConfig(name='automl_airlines_delays_3',\n",
    "                             task='classification',\n",
    "                             compute_target=training_cluster,\n",
    "                             training_data = df_train,\n",
    "                             validation_data = df_test,\n",
    "                             label_column_name='TARGET',\n",
    "                             iterations=4,\n",
    "                             primary_metric = 'AUC_weighted',\n",
    "                             max_concurrent_iterations=2,\n",
    "                             featurization='off'\n",
    "                             )"
   ]
  },
  {
   "cell_type": "markdown",
   "id": "f5608493",
   "metadata": {},
   "source": [
    "### Run an AutoML experiment\n"
   ]
  },
  {
   "cell_type": "markdown",
   "id": "bb2ba08c",
   "metadata": {},
   "source": [
    "    from azureml.core.experiment import Experiment\n",
    "    from azureml.widgets import RunDetails\n",
    "\n",
    "    print('Running..')\n",
    "    automl_experiment = Experiment(ws, 'automl_airlines_delays_3')\n",
    "    automl_run = automl_experiment.submit(automl_config)\n",
    "    RunDetails(automl_run).show()\n",
    "    automl_run.wait_for_completion(show_output=True)"
   ]
  },
  {
   "cell_type": "markdown",
   "id": "78fc3381",
   "metadata": {},
   "source": [
    "### AutoML output\n"
   ]
  },
  {
   "cell_type": "markdown",
   "id": "f6695dcd",
   "metadata": {},
   "source": [
    "I ran few experiments with different datasets and number of iterations. I tested dataset that wasn't standarized with MaxAbsScaler or the one where I kept ouliers. And the last one actually had the best performance. "
   ]
  },
  {
   "cell_type": "markdown",
   "id": "ec64e160",
   "metadata": {},
   "source": [
    "Here is the list of experiments I ran."
   ]
  },
  {
   "cell_type": "code",
   "execution_count": 16,
   "id": "c10b5b47",
   "metadata": {},
   "outputs": [
    {
     "name": "stdout",
     "output_type": "stream",
     "text": [
      "automl_airlines_delays\n",
      "automl_airlines_delays_2\n",
      "automl_airlines_delays_3\n",
      "automl_airlines_delays_firstconfig_rerun\n"
     ]
    }
   ],
   "source": [
    "from azureml.core import Experiment, Run\n",
    "\n",
    "ex = ws.experiments\n",
    "\n",
    "for key in ex:\n",
    "    print(key)"
   ]
  },
  {
   "cell_type": "markdown",
   "id": "a52ca13a",
   "metadata": {},
   "source": [
    "The best model was created in <b>automl_airlines_delays_3</b> with RunID: <b>AutoML_4d7894fc-b7b1-420c-987f-efc733671a90</b>"
   ]
  },
  {
   "cell_type": "code",
   "execution_count": 17,
   "id": "2ceff122",
   "metadata": {},
   "outputs": [
    {
     "name": "stderr",
     "output_type": "stream",
     "text": [
      "WARNING:root:The version of the SDK does not match the version the model was trained on.\n",
      "WARNING:root:The consistency in the result may not be guaranteed.\n",
      "WARNING:root:Package:azureml-automl-core, training version:1.46.1, current version:1.44.0\n",
      "Package:azureml-automl-runtime, training version:1.46.1, current version:1.44.0\n",
      "Package:azureml-core, training version:1.46.0, current version:1.44.0\n",
      "Package:azureml-dataprep, training version:4.5.7, current version:4.2.2\n",
      "Package:azureml-dataprep-rslex, training version:2.11.4, current version:2.8.1\n",
      "Package:azureml-dataset-runtime, training version:1.46.0, current version:1.44.0\n",
      "Package:azureml-defaults, training version:1.46.0, current version:1.44.0\n",
      "Package:azureml-interpret, training version:1.46.0, current version:1.44.0\n",
      "Package:azureml-mlflow, training version:1.46.0, current version:1.44.0\n",
      "Package:azureml-pipeline-core, training version:1.46.0, current version:1.44.0\n",
      "Package:azureml-responsibleai, training version:1.46.0, current version:1.44.0\n",
      "Package:azureml-telemetry, training version:1.46.0, current version:1.44.0\n",
      "Package:azureml-train-automl-client, training version:1.46.0, current version:1.44.0\n",
      "Package:azureml-train-automl-runtime, training version:1.46.1, current version:1.44.0\n",
      "Package:azureml-train-core, training version:1.46.0, current version:1.44.0\n",
      "Package:azureml-train-restclients-hyperdrive, training version:1.46.0, current version:1.44.0\n",
      "Package:azureml-training-tabular, training version:1.46.1, current version:1.44.0\n",
      "WARNING:root:Please ensure the version of your local conda dependencies match the version on which your model was trained in order to properly retrieve your model.\n"
     ]
    },
    {
     "name": "stdout",
     "output_type": "stream",
     "text": [
      "Run(Experiment: automl_airlines_delays_3,\n",
      "Id: AutoML_4d7894fc-b7b1-420c-987f-efc733671a90_7,\n",
      "Type: azureml.scriptrun,\n",
      "Status: Completed)\n",
      "\n",
      "Best Run Metrics:\n",
      "accuracy :   0.8259597752362156\n",
      "f1_score_weighted :   0.7685567757525456\n",
      "matthews_correlation :   0.18077760409354432\n",
      "weighted_accuracy :   0.9462719620998075\n",
      "recall_score_macro :   0.5376385610340318\n",
      "log_loss :   0.43525938969436395\n",
      "precision_score_macro :   0.7170682223495031\n",
      "norm_macro_recall :   0.0752771220680637\n",
      "balanced_accuracy :   0.5376385610340318\n",
      "precision_score_weighted :   0.7907534681867007\n",
      "average_precision_score_micro :   0.8620856713957593\n",
      "f1_score_macro :   0.5282728900954706\n",
      "AUC_macro :   0.6865246130797513\n",
      "precision_score_micro :   0.8259597752362156\n",
      "recall_score_micro :   0.8259597752362156\n",
      "recall_score_weighted :   0.8259597752362156\n",
      "f1_score_micro :   0.8259597752362156\n",
      "average_precision_score_weighted :   0.8013364788757266\n",
      "AUC_micro :   0.8757310208475149\n",
      "average_precision_score_macro :   0.6271038445767481\n",
      "AUC_weighted :   0.6865246130797511\n",
      "confusion_matrix :   aml://artifactId/ExperimentRun/dcid.AutoML_4d7894fc-b7b1-420c-987f-efc733671a90_7/confusion_matrix\n",
      "accuracy_table :   aml://artifactId/ExperimentRun/dcid.AutoML_4d7894fc-b7b1-420c-987f-efc733671a90_7/accuracy_table\n"
     ]
    }
   ],
   "source": [
    "aml_exp = Experiment(ws, 'automl_airlines_delays_3')\n",
    "\n",
    "aml_run = ws.get_run('AutoML_4d7894fc-b7b1-420c-987f-efc733671a90')\n",
    "\n",
    "best_run, fitted_model = aml_run.get_output()\n",
    "print(best_run)\n",
    "\n",
    "print('\\nBest Run Metrics:')\n",
    "best_run_metrics = best_run.get_metrics()\n",
    "for metric_name in best_run_metrics:\n",
    "    metric = best_run_metrics[metric_name]\n",
    "    print(metric_name,':  ', metric)"
   ]
  },
  {
   "cell_type": "markdown",
   "id": "03002cf8",
   "metadata": {},
   "source": [
    " "
   ]
  },
  {
   "cell_type": "markdown",
   "id": "02711445",
   "metadata": {},
   "source": [
    "Even though this model is not performing too well, I will register it for now and then deploy."
   ]
  },
  {
   "cell_type": "code",
   "execution_count": 19,
   "id": "0612d624",
   "metadata": {},
   "outputs": [
    {
     "name": "stdout",
     "output_type": "stream",
     "text": [
      "airline_delays_classification_2 version: 1\n",
      "\t Training context : Auto ML\n",
      "\t Task : Classification\n",
      "\t Objective : Avanade Challenge\n",
      "\t AUC : 0.6865246130797511\n",
      "\t Accuracy : 0.8259597752362156\n",
      "\t F1_score : 0.7685567757525456\n",
      "\n",
      "\n",
      "airline_delays_classification version: 1\n",
      "\t Training context : Auto ML\n",
      "\t Task : Classification\n",
      "\t Objective : Avanade Challenge\n",
      "\t AUC : 0.6865246130797511\n",
      "\t Accuracy : 0.8259597752362156\n",
      "\t F1_score : 0.7685567757525456\n",
      "\n",
      "\n"
     ]
    }
   ],
   "source": [
    "from azureml.core import Model\n",
    "\n",
    "# Register model\n",
    "best_run.register_model(model_path ='', model_name='airline_delays_classification',\n",
    "                        tags={'Training context':'Auto ML',\n",
    "                             'Task': 'Classification',\n",
    "                             'Objective': 'Avanade Challenge'},\n",
    "                        properties={'AUC': best_run_metrics['AUC_weighted'], 'Accuracy': best_run_metrics['accuracy'],\n",
    "                                   'F1_score': best_run_metrics['f1_score_weighted']})\n",
    "\n",
    "# List registered models\n",
    "for model in Model.list(ws):\n",
    "    print(model.name, 'version:', model.version)\n",
    "    for tag_name in model.tags:\n",
    "        tag = model.tags[tag_name]\n",
    "        print ('\\t',tag_name, ':', tag)\n",
    "    for prop_name in model.properties:\n",
    "        prop = model.properties[prop_name]\n",
    "        print ('\\t',prop_name, ':', prop)\n",
    "    print('\\n')"
   ]
  },
  {
   "cell_type": "markdown",
   "id": "78957026",
   "metadata": {},
   "source": [
    "Next step in the <b>Deployment Notebook</b>"
   ]
  },
  {
   "cell_type": "code",
   "execution_count": null,
   "id": "b5c85e0c",
   "metadata": {},
   "outputs": [],
   "source": []
  }
 ],
 "metadata": {
  "kernelspec": {
   "display_name": "Python 3 (ipykernel)",
   "language": "python",
   "name": "python3"
  },
  "language_info": {
   "codemirror_mode": {
    "name": "ipython",
    "version": 3
   },
   "file_extension": ".py",
   "mimetype": "text/x-python",
   "name": "python",
   "nbconvert_exporter": "python",
   "pygments_lexer": "ipython3",
   "version": "3.9.13"
  }
 },
 "nbformat": 4,
 "nbformat_minor": 5
}
